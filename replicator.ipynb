{
 "cells": [
  {
   "cell_type": "markdown",
   "metadata": {},
   "source": [
    "/*\n",
    " * Copyright Amazon.com, Inc. or its affiliates. All Rights Reserved.\n",
    " * SPDX-License-Identifier: MIT-0\n",
    " *\n",
    " * Permission is hereby granted, free of charge, to any person obtaining a copy of this\n",
    " * software and associated documentation files (the \"Software\"), to deal in the Software\n",
    " * without restriction, including without limitation the rights to use, copy, modify,\n",
    " * merge, publish, distribute, sublicense, and/or sell copies of the Software, and to\n",
    " * permit persons to whom the Software is furnished to do so.\n",
    " *\n",
    " * THE SOFTWARE IS PROVIDED \"AS IS\", WITHOUT WARRANTY OF ANY KIND, EXPRESS OR IMPLIED,\n",
    " * INCLUDING BUT NOT LIMITED TO THE WARRANTIES OF MERCHANTABILITY, FITNESS FOR A\n",
    " * PARTICULAR PURPOSE AND NONINFRINGEMENT. IN NO EVENT SHALL THE AUTHORS OR COPYRIGHT\n",
    " * HOLDERS BE LIABLE FOR ANY CLAIM, DAMAGES OR OTHER LIABILITY, WHETHER IN AN ACTION\n",
    " * OF CONTRACT, TORT OR OTHERWISE, ARISING FROM, OUT OF OR IN CONNECTION WITH THE\n",
    " * SOFTWARE OR THE USE OR OTHER DEALINGS IN THE SOFTWARE.\n",
    " */"
   ]
  },
  {
   "cell_type": "markdown",
   "metadata": {},
   "source": [
    "### Replication of data from a Kinesis Data Stream in `us-east-1` to another Kinesis Data Stream in `us-west-1`\n",
    "If you are attempting to apply this to your workloads, please ensure you make the following modifications:\n",
    "- Modify the schema specified in both tables to match your incoming data\n",
    "- Change the `stream` name in both tables to match both your source stream and destination stream\n",
    "- Ensure that your Kinesis Data Analytics application is running in the *same* region as your **source** stream to minimize latency and disruptions when replicating.\n",
    "\n",
    "\n",
    "Please note that this replication process does not factor in any other **necessary** replication considerations such as failover detection, client failover and offset synchronization between clients. "
   ]
  },
  {
   "cell_type": "code",
   "execution_count": 1,
   "metadata": {
    "autoscroll": "auto"
   },
   "outputs": [],
   "source": [
    "%flink.ssql(type=update)\n",
    "\n",
    "DROP TABLE IF EXISTS my_source_stream;\n",
    "CREATE TABLE my_source_stream (\n",
    "    data STRING\n",
    ")\n",
    "WITH (\n",
    "  'connector' = 'kinesis',\n",
    "  'stream' = 'us-east-1-stream',\n",
    "  'aws.region' = 'us-east-1',\n",
    "  'scan.stream.initpos' = 'LATEST',\n",
    "  'format' = 'raw'\n",
    "); "
   ]
  },
  {
   "cell_type": "code",
   "execution_count": 2,
   "metadata": {
    "autoscroll": "auto"
   },
   "outputs": [],
   "source": [
    "%flink.ssql(type=update)\n",
    "DROP TABLE IF EXISTS my_sink_stream;\n",
    "\n",
    "CREATE TABLE my_sink_stream (\n",
    "    data STRING\n",
    ")\n",
    "WITH (\n",
    "  'connector' = 'kinesis',\n",
    "  'stream' = 'us-west-1-stream',\n",
    "  'aws.region' = 'us-west-1',\n",
    "  'format' = 'raw',\n",
    "  'scan.stream.initpos' = 'TRIM_HORIZON'\n",
    "); "
   ]
  },
  {
   "cell_type": "markdown",
   "metadata": {},
   "source": [
    "### Run the insert statement which will trigger the Apache Flink job to execute. \n",
    "This paragraph will take data from `my_source_stream` (us-east-1) and write it into the secondary stream `my_sink_stream` (us-west-1)\n"
   ]
  },
  {
   "cell_type": "code",
   "execution_count": 4,
   "metadata": {
    "autoscroll": "auto"
   },
   "outputs": [],
   "source": [
    "%flink.ssql(type=update)\n",
    "INSERT INTO my_sink_stream select * from my_source_stream;"
   ]
  },
  {
   "cell_type": "markdown",
   "metadata": {},
   "source": [
    "#### We can validate that all of our records have made it to the sink stream by reading from the beginning of the sink and counting all the records that have arrived thus far.\n",
    "Delete the below paragraph ahead of deploying this notebook as a fully-fledged Apache Flink application on Kinesis Data Analytics for Apache Flink."
   ]
  },
  {
   "cell_type": "code",
   "execution_count": 6,
   "metadata": {
    "autoscroll": "auto"
   },
   "outputs": [],
   "source": [
    "%flink.ssql(type=update)\n",
    "SELECT COUNT(*) AS record_count FROM my_sink_stream"
   ]
  },
  {
   "cell_type": "markdown",
   "metadata": {},
   "source": [
    " \n",
    "### Please ensure you stop all paragraphs OR stop the Flink application in the AWS Management Console once replication is no longer needed to free up resources."
   ]
  }
 ],
 "metadata": {
  "kernelspec": {
   "display_name": "Python 3 (ipykernel)",
   "language": "python",
   "name": "python3"
  },
  "language_info": {
   "codemirror_mode": {
    "name": "ipython",
    "version": 3
   },
   "file_extension": ".py",
   "mimetype": "text/x-python",
   "name": "python",
   "nbconvert_exporter": "python",
   "pygments_lexer": "ipython3",
   "version": "3.8.3"
  },
  "name": "replicator"
 },
 "nbformat": 4,
 "nbformat_minor": 2
}
